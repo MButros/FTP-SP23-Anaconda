{
 "cells": [
  {
   "cell_type": "markdown",
   "id": "94698e05",
   "metadata": {},
   "source": [
    "# Machine Learning I - Project 1\n",
    "## Group Members: Michael Butros, June Claiborne, Lila Ghemri"
   ]
  },
  {
   "cell_type": "markdown",
   "id": "c06f8a7f",
   "metadata": {},
   "source": [
    "## Section 1: Loading Libraries"
   ]
  },
  {
   "cell_type": "code",
   "execution_count": 1,
   "id": "0d2377b2",
   "metadata": {},
   "outputs": [],
   "source": [
    "import numpy as np\n",
    "from numpy import random\n",
    "from csv import reader\n",
    "from random import randrange\n",
    "from random import seed\n",
    "import pandas as pd\n",
    "import colorama\n",
    "from colorama import Fore\n",
    "from math import sqrt\n",
    "from math import exp\n",
    "from math import pi"
   ]
  },
  {
   "cell_type": "markdown",
   "id": "382e2c41",
   "metadata": {},
   "source": [
    "### Read in dataset, add sum, and score columns"
   ]
  },
  {
   "cell_type": "code",
   "execution_count": 2,
   "id": "5f0ed579",
   "metadata": {},
   "outputs": [
    {
     "name": "stdout",
     "output_type": "stream",
     "text": [
      "         Location  Cost  Growth Potential  Crime Rate  Visibility  Parking  \\\n",
      "0          Austin     0                 1           1           1        0   \n",
      "1  Salt Lake City     1                 0           1           0        0   \n",
      "2         Raleigh     1                 1           1           1        1   \n",
      "\n",
      "   Near Target Community  Access to Public Transportation  Permits Required  \\\n",
      "0                      0                                0                 0   \n",
      "1                      0                                1                 1   \n",
      "2                      0                                0                 0   \n",
      "\n",
      "   Zoning Laws  Insurance Needed  Outdoor Play Area  Grooming Services  \\\n",
      "0            1                 1                  1                  0   \n",
      "1            1                 1                  1                  1   \n",
      "2            1                 0                  1                  1   \n",
      "\n",
      "   Population Age >65  Retired  Median Income of Population  \\\n",
      "0                   1        1                            1   \n",
      "1                   1        0                            0   \n",
      "2                   0        1                            0   \n",
      "\n",
      "   Price of Near Competitors Premium  Near Office Building  \n",
      "0                                  0                     1  \n",
      "1                                  0                     1  \n",
      "2                                  0                     0  \n",
      "\n",
      "\n",
      "\u001b[30mAustin is not a good location with 58.82\n",
      "\u001b[30mSalt Lake City is not a good location with 58.82\n",
      "\u001b[30mRaleigh is not a good location with 52.94\n",
      "\u001b[30mNashville is not a good location with 41.18\n",
      "\u001b[30mSan Francisco is not a good location with 47.06\n",
      "\u001b[30mSan Jose is not a good location with 47.06\n",
      "\u001b[30mSan Diego is not a good location with 58.82\n",
      "\u001b[30mDenver is not a good location with 47.06\n",
      "\u001b[32mOrlando is a good location with 70.59 \n",
      "\u001b[30mPortland is not a good location with 35.29\n",
      "\u001b[32mPhoenix is a good location with 76.47 \n",
      "\u001b[32mSeattle is a good location with 76.47 \n",
      "\u001b[30mMiami is not a good location with 35.29\n",
      "\u001b[30mJacksonville is not a good location with 47.06\n",
      "\u001b[32mBoston is a good location with 64.71 \n",
      "\u001b[30mLos Angeles is not a good location with 58.82\n",
      "\u001b[32mDallas is a good location with 64.71 \n",
      "\u001b[30mAtlanta is not a good location with 58.82\n",
      "\u001b[30mWashington is not a good location with 41.18\n",
      "\u001b[30mLas Vegas is not a good location with 41.18\n",
      "\u001b[30mMinneapolis is not a good location with 29.41\n",
      "\u001b[30mCharlotte is not a good location with 41.18\n",
      "\u001b[32mRiverside is a good location with 64.71 \n",
      "\u001b[30mTampa is not a good location with 41.18\n",
      "\u001b[30mIndianapolis is not a good location with 35.29\n",
      "\u001b[30mNew York is not a good location with 52.94\n",
      "\u001b[30mColumbus is not a good location with 52.94\n",
      "\u001b[30mSacramento is not a good location with 47.06\n",
      "\u001b[30mMilwaukee is not a good location with 58.82\n",
      "\u001b[32mSan Antonio is a good location with 64.71 \n",
      "\u001b[32mOklahoma City is a good location with 76.47 \n",
      "\u001b[30mHouston is not a good location with 52.94\n",
      "\u001b[30mSt. Louis is not a good location with 47.06\n",
      "\u001b[30mPhiladelphia is not a good location with 58.82\n",
      "\u001b[30mRichmond is not a good location with 47.06\n",
      "\u001b[30mChicago is not a good location with 52.94\n",
      "\u001b[30mBirmingham is not a good location with 47.06\n",
      "\u001b[30mBaltimmore is not a good location with 58.82\n",
      "\u001b[30mPittsburgh is not a good location with 58.82\n",
      "\u001b[32mKansis City is a good location with 64.71 \n",
      "\u001b[30mNew Orleans is not a good location with 58.82\n",
      "\u001b[32mCincinnati is a good location with 64.71 \n",
      "\u001b[30mLouisville is not a good location with 41.18\n",
      "\u001b[30mProvidence is not a good location with 52.94\n",
      "\u001b[32mDetroit is a good location with 76.47 \n",
      "\u001b[30mHartford is not a good location with 47.06\n",
      "\u001b[32mMemphis is a good location with 70.59 \n",
      "\u001b[30mClleveland is not a good location with 29.41\n",
      "\u001b[30mVirginia Beach is not a good location with 47.06\n",
      "\u001b[32mBuffalo is a good location with 64.71 \n"
     ]
    },
    {
     "name": "stderr",
     "output_type": "stream",
     "text": [
      "/var/folders/l7/qkjnbb616nzd10h2cxfy7nj00000gp/T/ipykernel_35921/4061320473.py:13: SettingWithCopyWarning: \n",
      "A value is trying to be set on a copy of a slice from a DataFrame\n",
      "\n",
      "See the caveats in the documentation: https://pandas.pydata.org/pandas-docs/stable/user_guide/indexing.html#returning-a-view-versus-a-copy\n",
      "  df['GoodLocation'][ind]=0\n",
      "/var/folders/l7/qkjnbb616nzd10h2cxfy7nj00000gp/T/ipykernel_35921/4061320473.py:9: SettingWithCopyWarning: \n",
      "A value is trying to be set on a copy of a slice from a DataFrame\n",
      "\n",
      "See the caveats in the documentation: https://pandas.pydata.org/pandas-docs/stable/user_guide/indexing.html#returning-a-view-versus-a-copy\n",
      "  df['GoodLocation'][ind]=1\n"
     ]
    }
   ],
   "source": [
    "df = pd.read_csv(\"MLProject1.csv\")\n",
    "print(df.head(3))\n",
    "df['Sum'] = df.iloc[: , 1:].sum(axis=1)\n",
    "df['Score'] = df.Sum.div(17).round(4)*100\n",
    "df['GoodLocation']=0\n",
    "print(\"\\n\")\n",
    "for ind in df.index:\n",
    "      if df['Score'][ind] >=60:\n",
    "            df['GoodLocation'][ind]=1\n",
    "            print(Fore.GREEN + df['Location'][ind]+ \" is a good location with %.2f \"  % round(df['Score'][ind],2))\n",
    "      else: \n",
    "          print(Fore.BLACK + df['Location'][ind]+ \" is not a good location with %.2f\"  % round(df['Score'][ind],2))\n",
    "          df['GoodLocation'][ind]=0"
   ]
  },
  {
   "cell_type": "markdown",
   "id": "b5249374",
   "metadata": {},
   "source": [
    "### Printing few rows of the dataset"
   ]
  },
  {
   "cell_type": "code",
   "execution_count": 3,
   "id": "c859c518",
   "metadata": {},
   "outputs": [
    {
     "name": "stdout",
     "output_type": "stream",
     "text": [
      "         Location  Cost  Growth Potential  Crime Rate  Visibility  Parking  \\\n",
      "0          Austin     0                 1           1           1        0   \n",
      "1  Salt Lake City     1                 0           1           0        0   \n",
      "2         Raleigh     1                 1           1           1        1   \n",
      "\n",
      "   Near Target Community  Access to Public Transportation  Permits Required  \\\n",
      "0                      0                                0                 0   \n",
      "1                      0                                1                 1   \n",
      "2                      0                                0                 0   \n",
      "\n",
      "   Zoning Laws  ...  Outdoor Play Area  Grooming Services  Population Age >65  \\\n",
      "0            1  ...                  1                  0                   1   \n",
      "1            1  ...                  1                  1                   1   \n",
      "2            1  ...                  1                  1                   0   \n",
      "\n",
      "   Retired  Median Income of Population  Price of Near Competitors Premium  \\\n",
      "0        1                            1                                  0   \n",
      "1        0                            0                                  0   \n",
      "2        1                            0                                  0   \n",
      "\n",
      "   Near Office Building  Sum  Score  GoodLocation  \n",
      "0                     1   10  58.82             0  \n",
      "1                     1   10  58.82             0  \n",
      "2                     0    9  52.94             0  \n",
      "\n",
      "[3 rows x 21 columns]\n"
     ]
    }
   ],
   "source": [
    "print(df.head(3))"
   ]
  },
  {
   "cell_type": "markdown",
   "id": "6b49038e",
   "metadata": {},
   "source": [
    "## Section 2: Baseline Algorithms (Random Prediction and Zero Rule)"
   ]
  },
  {
   "cell_type": "code",
   "execution_count": 4,
   "id": "3ba27770",
   "metadata": {},
   "outputs": [
    {
     "name": "stdout",
     "output_type": "stream",
     "text": [
      "Predicted Values using Random [1, 1, 1, 1, 1, 0, 0, 1, 1, 0, 0, 0, 0, 0, 1, 0, 0, 0, 0, 0, 1, 1, 1, 0, 0, 1, 1, 0, 0, 0, 0, 0, 0, 0, 1, 1, 0, 0, 0, 1, 1, 0, 0, 1, 1, 0, 1, 0, 1, 1]\n",
      "Accuracy of random algorithm  57.99999999999999 %\n",
      "Predicted Values using Zero rule [0, 0, 0, 0, 0, 0, 0, 0, 0, 0, 0, 0, 0, 0, 0, 0, 0, 0, 0, 0, 0, 0, 0, 0, 0, 0, 0, 0, 0, 0, 0, 0, 0, 0, 0, 0, 0, 0, 0, 0, 0, 0, 0, 0, 0, 0, 0, 0, 0, 0]\n",
      "Accuracy of zero rule algorithm 74.0 %\n"
     ]
    }
   ],
   "source": [
    "from numpy import array\n",
    "# Calculate accuracy percentage between two lists\n",
    "def accuracy_metric(actual, predicted):\n",
    "    correct = 0\n",
    "    for i in range(len(actual)):\n",
    "        if actual[i] == predicted[i]:\n",
    "            correct += 1\n",
    "    return correct / float(len(actual)) * 100.0\n",
    "\n",
    "def random_algorithm(train,test):\n",
    "  output_values = [row[-1] for row in train]\n",
    "  unique = list(set(output_values))\n",
    "  predicted = list()\n",
    "  for _ in test:\n",
    "    index = randrange(len(unique))\n",
    "    predicted.append(unique[index])\n",
    "  return predicted\n",
    "\n",
    "# zero rule algorithm for classification\n",
    "def zero_rule_algorithm_classification(train, test):\n",
    "    output_values = [row[-1] for row in train]\n",
    "    prediction = max(set(output_values), key=output_values.count)\n",
    "    predicted = [prediction for i in range(len(test))]\n",
    "    return predicted\n",
    "\n",
    "seed(2023)\n",
    "#setting up the attribute format to work with algorithms above\n",
    "GL=array(df['GoodLocation'])\n",
    "new_lst = [[i] for i in GL]\n",
    "\n",
    "xs = [None] * len(df)\n",
    "new_xs=[[i] for i in xs]\n",
    "\n",
    "predictions=random_algorithm(new_lst,new_xs)\n",
    "print(\"Predicted Values using Random\", predictions)\n",
    "\n",
    "# Test accuracy\n",
    "accuracy = accuracy_metric(GL, predictions)\n",
    "print(\"Accuracy of random algorithm \", accuracy,\"%\")\n",
    "predictions = zero_rule_algorithm_classification(new_lst,new_xs)\n",
    "print(\"Predicted Values using Zero rule\",  predictions)\n",
    "accuracy = accuracy_metric(GL, predictions)\n",
    "print(\"Accuracy of zero rule algorithm\", accuracy, \"%\")"
   ]
  },
  {
   "cell_type": "markdown",
   "id": "0ffb0ff1",
   "metadata": {},
   "source": [
    "## Section 3: The Perceptron Algorithm "
   ]
  },
  {
   "cell_type": "code",
   "execution_count": 5,
   "id": "515c1864",
   "metadata": {},
   "outputs": [
    {
     "name": "stdout",
     "output_type": "stream",
     "text": [
      "Weights for each fold:\n",
      "[-0.36000000000000015, 0.010000000000000004, 0.05000000000000001, 0.04000000000000001, 0.09, -0.01, 0.04, 0.030000000000000006, 0.060000000000000005, 0.07, -0.04000000000000001, -0.060000000000000005, 0.12999999999999998, -0.010000000000000004, 0.010000000000000004, 0.03, -3.469446951953614e-18, 0.060000000000000005]\n",
      "Weights for each fold:\n",
      "[-0.10999999999999999, 0.009999999999999997, -0.009999999999999997, -0.02, 0.01, 0.009999999999999997, -0.019999999999999997, 0.03, 0.0, 0.07, -0.02, -0.07, 0.04, 0.019999999999999997, 0.009999999999999997, 0.030000000000000006, 0.02, -0.03]\n",
      "Weights for each fold:\n",
      "[-0.12999999999999998, 0.01, 0.0, 0.03, 0.019999999999999997, 0.04, 0.010000000000000004, 0.05, 0.060000000000000005, -0.020000000000000004, -0.03, -0.05, 0.009999999999999997, 0.07, -0.009999999999999997, -0.03, 0.01, -0.019999999999999997]\n",
      "Scores: [75.0, 68.75, 50.0]\n",
      "Mean Accuracy: 64.583%\n"
     ]
    }
   ],
   "source": [
    "#Using Perceptron to make predictions\n",
    "import numpy as np\n",
    "from  random import   seed\n",
    "from  random import   randrange \n",
    "from  csv  import   reader\n",
    "\n",
    "#Cleaning the dataset:\n",
    "\n",
    "def clean_data(dataset):\n",
    "    df1= dataset.drop(columns=[\"Location\",\"Sum\", \"Score\"])\n",
    "    return df1\n",
    "\n",
    "# Split a dataset into k folds\n",
    "def cross_validation_split(dataset, n_folds):\n",
    "    #print(dataset)\n",
    "    dataset_split = list()\n",
    "    dataset_copy = list(dataset)\n",
    "    fold_size = int(len(dataset) / n_folds)\n",
    "    for _ in range(n_folds):\n",
    "        fold = list()\n",
    "        while len(fold) < fold_size:\n",
    "            index = randrange(len(dataset_copy))\n",
    "            fold.append(dataset_copy.pop(index))\n",
    "        dataset_split.append(fold)\n",
    "    #print(dataset_split)\n",
    "    return dataset_split\n",
    "\n",
    "def accuracy_metric(actual, predicted):\n",
    "    correct = 0\n",
    "    for i in range(len(actual)):\n",
    "        if actual[i] == predicted[i]:\n",
    "            correct += 1\n",
    "    return correct / float(len(actual)) * 100.0\n",
    "\n",
    "# Evaluate  an algorithm using  a cross  validation split\n",
    "def  evaluate_algorithm(dataset, algorithm,  n_folds, *args):\n",
    "    folds = cross_validation_split(dataset,  n_folds)\n",
    "   # print(folds)\n",
    "    scores  = list()\n",
    "    for fold in folds: \n",
    "        train_set =  list(folds) \n",
    "        train_set.remove(fold) \n",
    "        train_set = sum(train_set,  []) \n",
    "        test_set = list()\n",
    "        for row in fold: \n",
    "            row_copy =  list(row) \n",
    "            test_set.append(row_copy) \n",
    "            row_copy[-1] = None\n",
    "        predicted = algorithm(train_set, test_set, *args)\n",
    "        actual = [row[-1] for row in fold]\n",
    "        accuracy  = accuracy_metric(actual, predicted)\n",
    "        scores.append(accuracy)\n",
    "    return  scores\n",
    "\n",
    "# Make a prediction with weights\n",
    "def predict(row, weights):\n",
    "    activation = weights[0]\n",
    "    for i in range(len(row)-1):\n",
    "        activation += weights[i + 1] * row[i]\n",
    "    return 1.0 if activation >= 0.0 else 0.0\n",
    "\n",
    "# Estimate Perceptron weights using stochastic gradient descent\n",
    "def train_weights(train, l_rate, n_epoch):\n",
    "    weights = [0.0 for i in range(len(train[0]))]\n",
    "    for _ in range(n_epoch):\n",
    "        for row in train:\n",
    "            prediction = predict(row, weights)\n",
    "            error = row[-1] - prediction\n",
    "            weights[0] = weights[0] + l_rate * error\n",
    "            for i in range(len(row)-1):\n",
    "                weights[i + 1] = weights[i + 1] + l_rate * error * row[i]\n",
    "    print(\"Weights for each fold:\")\n",
    "    print(weights)\n",
    "    return weights\n",
    "# Perceptron Algorithm With Stochastic Gradient Descent\n",
    "def perceptron(train, test, l_rate, n_epoch):\n",
    "    predictions = list()\n",
    "    weights = train_weights(train, l_rate, n_epoch)\n",
    "    for row in test:\n",
    "        prediction = predict(row, weights)\n",
    "        predictions.append(prediction)\n",
    "    return(predictions)\n",
    "           \n",
    "    \n",
    "# Test the Perceptron algorithm on the Doggy Hotel  dataset\n",
    "seed(2023)\n",
    "# prepare data\n",
    "df1=clean_data(df)\n",
    "dlist = df1.values.tolist()\n",
    "n_folds = 3\n",
    "l_rate = 0.01\n",
    "n_epoch = 500\n",
    "scores = evaluate_algorithm(dlist, perceptron, n_folds, l_rate, n_epoch)\n",
    "print('Scores: %s' % scores)\n",
    "print('Mean Accuracy: %.3f%%' % (sum(scores)/float(len(scores))))"
   ]
  },
  {
   "cell_type": "markdown",
   "id": "f0954146",
   "metadata": {},
   "source": [
    "## Section 4: The Naive Bayes Algorithm "
   ]
  },
  {
   "cell_type": "code",
   "execution_count": null,
   "id": "4e044faa",
   "metadata": {},
   "outputs": [],
   "source": []
  }
 ],
 "metadata": {
  "kernelspec": {
   "display_name": "Python 3 (ipykernel)",
   "language": "python",
   "name": "python3"
  },
  "language_info": {
   "codemirror_mode": {
    "name": "ipython",
    "version": 3
   },
   "file_extension": ".py",
   "mimetype": "text/x-python",
   "name": "python",
   "nbconvert_exporter": "python",
   "pygments_lexer": "ipython3",
   "version": "3.9.13"
  }
 },
 "nbformat": 4,
 "nbformat_minor": 5
}
